{
 "cells": [
  {
   "cell_type": "code",
   "execution_count": 39,
   "metadata": {},
   "outputs": [
    {
     "name": "stdout",
     "output_type": "stream",
     "text": [
      "https://medlineplus.gov/lab-tests/\n",
      "147\n",
      "\n",
      "\n",
      "\n",
      "[('https://medlineplus.gov/lab-tests/adhd-screening/', 'ADHD Screening'), ('https://medlineplus.gov/lab-tests/albumin-blood-test/', 'Albumin Blood Test'), ('https://medlineplus.gov/lab-tests/alkaline-phosphatase/', 'Alkaline Phosphatase'), ('https://medlineplus.gov/lab-tests/allergy-blood-test/', 'Allergy Blood Test'), ('https://medlineplus.gov/lab-tests/alpha-fetoprotein-afp-tumor-marker-test/', 'Alpha Fetoprotein (AFP) Tumor Marker Test'), ('https://medlineplus.gov/lab-tests/alpha-fetoprotein-afp-test/', 'Alpha-Fetoprotein (AFP) Test'), ('https://medlineplus.gov/lab-tests/alt-blood-test/', 'ALT Blood Test'), ('https://medlineplus.gov/lab-tests/amylase-test/', 'Amylase Test'), ('https://medlineplus.gov/lab-tests/ana-antinuclear-antibody-test/', 'ANA (Antinuclear Antibody) Test'), ('https://medlineplus.gov/lab-tests/anion-gap-blood-test/', 'Anion Gap Blood Test'), ('https://medlineplus.gov/lab-tests/anti-mullerian-hormone-test/', 'Anti-Müllerian Hormone Test'), ('https://medlineplus.gov/lab-tests/appendicitis-tests/', 'Appendicitis Tests'), ('https://medlineplus.gov/lab-tests/ast-test/', 'AST Test'), ('https://medlineplus.gov/lab-tests/bacteria-culture-test/', 'Bacteria Culture Test'), ('https://medlineplus.gov/lab-tests/bcr-abl-genetic-test/', 'BCR ABL Genetic Test'), ('https://medlineplus.gov/lab-tests/beta-2-microglobulin-b2m-tumor-marker-test/', 'Beta 2 Microglobulin (B2M) Tumor Marker Test'), ('https://medlineplus.gov/lab-tests/bilirubin-blood-test/', 'Bilirubin Blood Test'), ('https://medlineplus.gov/lab-tests/bilirubin-in-urine/', 'Bilirubin in Urine'), ('https://medlineplus.gov/lab-tests/blood-alcohol-level/', 'Blood Alcohol Level'), ('https://medlineplus.gov/lab-tests/blood-differential/', 'Blood Differential'), ('https://medlineplus.gov/lab-tests/blood-glucose-test/', 'Blood Glucose Test'), ('https://medlineplus.gov/lab-tests/blood-in-urine/', 'Blood in Urine'), ('https://medlineplus.gov/lab-tests/blood-oxygen-level/', 'Blood Oxygen Level'), ('https://medlineplus.gov/lab-tests/blood-smear/', 'Blood Smear'), ('https://medlineplus.gov/lab-tests/bone-marrow-tests/', 'Bone Marrow Tests'), ('https://medlineplus.gov/lab-tests/braf-genetic-test/', 'BRAF Genetic Test'), ('https://medlineplus.gov/lab-tests/brca-test/', 'BRCA Test'), ('https://medlineplus.gov/lab-tests/breast-biopsy/', 'Breast Biopsy'), ('https://medlineplus.gov/lab-tests/bun-blood-urea-nitrogen/', 'BUN (Blood Urea Nitrogen)'), ('https://medlineplus.gov/lab-tests/c-peptide-test/', 'C-Peptide Test'), ('https://medlineplus.gov/lab-tests/c-reactive-protein-crp-test/', 'C-Reactive Protein (CRP) Test'), ('https://medlineplus.gov/lab-tests/ca-19-9-blood-test-pancreatic-cancer/', 'CA 19-9 Blood Test (Pancreatic Cancer)'), ('https://medlineplus.gov/lab-tests/ca-125-blood-test-ovarian-cancer/', 'CA-125 Blood Test (Ovarian Cancer)'), ('https://medlineplus.gov/lab-tests/calcitonin-test/', 'Calcitonin Test'), ('https://medlineplus.gov/lab-tests/calcium-blood-test/', 'Calcium Blood Test'), ('https://medlineplus.gov/lab-tests/calcium-in-urine-test/', 'Calcium in Urine Test'), ('https://medlineplus.gov/lab-tests/carbon-dioxide-co2-in-blood/', 'Carbon Dioxide (CO2) in Blood'), ('https://medlineplus.gov/lab-tests/cd4-lymphocyte-count/', 'CD4 Lymphocyte Count'), ('https://medlineplus.gov/lab-tests/cea-test/', 'CEA Test'), ('https://medlineplus.gov/lab-tests/celiac-disease-screening/', 'Celiac Disease Screening'), ('https://medlineplus.gov/lab-tests/cerebrospinal-fluid-csf-analysis/', 'Cerebrospinal Fluid (CSF) Analysis'), ('https://medlineplus.gov/lab-tests/chlamydia-test/', 'Chlamydia Test'), ('https://medlineplus.gov/lab-tests/chloride-blood-test/', 'Chloride Blood Test'), ('https://medlineplus.gov/lab-tests/cholesterol-levels/', 'Cholesterol Levels'), ('https://medlineplus.gov/lab-tests/coagulation-factor-tests/', 'Coagulation Factor Tests'), ('https://medlineplus.gov/lab-tests/cognitive-testing/', 'Cognitive Testing'), ('https://medlineplus.gov/lab-tests/complete-blood-count-cbc/', 'Complete Blood Count (CBC)'), ('https://medlineplus.gov/lab-tests/concussion-tests/', 'Concussion Tests'), ('https://medlineplus.gov/lab-tests/cortisol-test/', 'Cortisol Test'), ('https://medlineplus.gov/lab-tests/crystals-in-urine/', 'Crystals in Urine'), ('https://medlineplus.gov/lab-tests/csf-immunoglobulin-g-igg-index/', 'CSF Immunoglobulin G (IgG) Index'), ('https://medlineplus.gov/lab-tests/dengue-fever-test/', 'Dengue Fever Test'), ('https://medlineplus.gov/lab-tests/depression-screening/', 'Depression Screening'), ('https://medlineplus.gov/lab-tests/differential-diagnosis/', 'Differential Diagnosis'), ('https://medlineplus.gov/lab-tests/down-syndrome-tests/', 'Down Syndrome Tests'), ('https://medlineplus.gov/lab-tests/drug-testing/', 'Drug Testing'), ('https://medlineplus.gov/lab-tests/electrocardiogram/', 'Electrocardiogram'), ('https://medlineplus.gov/lab-tests/epithelial-cells-in-urine/', 'Epithelial Cells in Urine'), ('https://medlineplus.gov/lab-tests/erythrocyte-sedimentation-rate-esr/', 'Erythrocyte Sedimentation Rate (ESR)'), ('https://medlineplus.gov/lab-tests/estrogen-levels-test/', 'Estrogen Levels Test'), ('https://medlineplus.gov/lab-tests/fasting-for-a-blood-test/', 'Fasting for a Blood Test'), ('https://medlineplus.gov/lab-tests/fecal-occult-blood-test-fobt/', 'Fecal Occult Blood Test (FOBT)'), ('https://medlineplus.gov/lab-tests/ferritin-blood-test/', 'Ferritin Blood Test'), ('https://medlineplus.gov/lab-tests/flu-influenza-test/', 'Flu (Influenza) Test'), ('https://medlineplus.gov/lab-tests/food-allergy-testing/', 'Food Allergy Testing'), ('https://medlineplus.gov/lab-tests/fungal-culture-test/', 'Fungal Culture Test'), ('https://medlineplus.gov/lab-tests/globulin-test/', 'Globulin Test'), ('https://medlineplus.gov/lab-tests/glucose-in-urine-test/', 'Glucose in Urine Test'), ('https://medlineplus.gov/lab-tests/gonorrhea-test/', 'Gonorrhea Test'), ('https://medlineplus.gov/lab-tests/heavy-metal-blood-test/', 'Heavy Metal Blood Test'), ('https://medlineplus.gov/lab-tests/hematocrit-test/', 'Hematocrit Test'), ('https://medlineplus.gov/lab-tests/hemoglobin-a1c-hba1c-test/', 'Hemoglobin A1C (HbA1c) Test'), ('https://medlineplus.gov/lab-tests/hemoglobin-test/', 'Hemoglobin Test'), ('https://medlineplus.gov/lab-tests/hepatitis-panel/', 'Hepatitis Panel'), ('https://medlineplus.gov/lab-tests/her2-breast-cancer-testing/', 'HER2 (Breast Cancer) Testing'), ('https://medlineplus.gov/lab-tests/herpes-hsv-test/', 'Herpes (HSV) Test'), ('https://medlineplus.gov/lab-tests/hiv-screening-test/', 'HIV Screening Test'), ('https://medlineplus.gov/lab-tests/hiv-viral-load/', 'HIV Viral Load'), ('https://medlineplus.gov/lab-tests/homocysteine-test/', 'Homocysteine Test'), ('https://medlineplus.gov/lab-tests/how-to-understand-your-lab-results/', 'How to Understand Your Lab Results'), ('https://medlineplus.gov/lab-tests/human-papillomavirus-hpv-test/', 'Human Papillomavirus (HPV) Test'), ('https://medlineplus.gov/lab-tests/immunoglobulins-blood-test/', 'Immunoglobulins Blood Test'), ('https://medlineplus.gov/lab-tests/karyotype-genetic-test/', 'Karyotype Genetic Test'), ('https://medlineplus.gov/lab-tests/ketones-in-blood/', 'Ketones in Blood'), ('https://medlineplus.gov/lab-tests/ketones-in-urine/', 'Ketones in Urine'), ('https://medlineplus.gov/lab-tests/kidney-stone-analysis/', 'Kidney Stone Analysis'), ('https://medlineplus.gov/lab-tests/laparoscopy/', 'Laparoscopy'), ('https://medlineplus.gov/lab-tests/lipase-tests/', 'Lipase Tests'), ('https://medlineplus.gov/lab-tests/lipoprotein-a-blood-test/', 'Lipoprotein (a) Blood Test'), ('https://medlineplus.gov/lab-tests/lung-cancer-tumor-markers/', 'Lung Cancer Tumor Markers'), ('https://medlineplus.gov/lab-tests/lyme-disease-tests/', 'Lyme Disease Tests'), ('https://medlineplus.gov/lab-tests/mcv-mean-corpuscular-volume/', 'MCV (Mean Corpuscular Volume)'), ('https://medlineplus.gov/lab-tests/measles-and-mumps-tests/', 'Measles and Mumps Tests'), ('https://medlineplus.gov/lab-tests/mental-health-screening/', 'Mental Health Screening'), ('https://medlineplus.gov/lab-tests/microalbumin-creatinine-ratio/', 'Microalbumin Creatinine Ratio'), ('https://medlineplus.gov/lab-tests/mpv-blood-test/', 'MPV Blood Test'), ('https://medlineplus.gov/lab-tests/mthfr-mutation-test/', 'MTHFR Mutation Test'), ('https://medlineplus.gov/lab-tests/mucus-in-urine/', 'Mucus in Urine'), ('https://medlineplus.gov/lab-tests/nitrites-in-urine/', 'Nitrites in Urine'), ('https://medlineplus.gov/lab-tests/pap-smear/', 'Pap Smear'), ('https://medlineplus.gov/lab-tests/partial-thromboplastin-time-ptt-test/', 'Partial Thromboplastin Time (PTT) Test'), ('https://medlineplus.gov/lab-tests/pdl1-immunotherapy-tests/', 'PDL1 (Immunotherapy) Tests'), ('https://medlineplus.gov/lab-tests/pharmacogenetic-tests/', 'Pharmacogenetic Tests'), ('https://medlineplus.gov/lab-tests/phenylketonuria-pku-screening/', 'Phenylketonuria (PKU) Screening'), ('https://medlineplus.gov/lab-tests/phosphate-in-urine/', 'Phosphate in Urine'), ('https://medlineplus.gov/lab-tests/porphyrin-tests/', 'Porphyrin Tests'), ('https://medlineplus.gov/lab-tests/postpartum-depression-screening/', 'Postpartum Depression Screening'), ('https://medlineplus.gov/lab-tests/potassium-blood-test/', 'Potassium Blood Test'), ('https://medlineplus.gov/lab-tests/prealbumin-blood-test/', 'Prealbumin Blood Test'), ('https://medlineplus.gov/lab-tests/pregnancy-test/', 'Pregnancy Test'), ('https://medlineplus.gov/lab-tests/procalcitonin-test/', 'Procalcitonin Test'), ('https://medlineplus.gov/lab-tests/progesterone-test/', 'Progesterone Test'), ('https://medlineplus.gov/lab-tests/prostate-specific-antigen-psa-test/', 'Prostate-Specific Antigen (PSA) Test'), ('https://medlineplus.gov/lab-tests/protein-c-and-protein-s-tests/', 'Protein C and Protein S Tests'), ('https://medlineplus.gov/lab-tests/protein-in-urine/', 'Protein in Urine'), ('https://medlineplus.gov/lab-tests/pten-genetic-test/', 'PTEN Genetic Test'), ('https://medlineplus.gov/lab-tests/rdw-red-cell-distribution-width/', 'RDW (Red Cell Distribution Width)'), ('https://medlineplus.gov/lab-tests/red-blood-cell-antibody-screen/', 'Red Blood Cell Antibody Screen'), ('https://medlineplus.gov/lab-tests/respiratory-syncytial-virus-rsv-tests/', 'Respiratory Syncytial Virus (RSV) Tests'), ('https://medlineplus.gov/lab-tests/rheumatoid-factor-rf-test/', 'Rheumatoid Factor (RF) Test'), ('https://medlineplus.gov/lab-tests/semen-analysis/', 'Semen Analysis'), ('https://medlineplus.gov/lab-tests/shbg-blood-test/', 'SHBG Blood Test'), ('https://medlineplus.gov/lab-tests/skin-biopsy/', 'Skin Biopsy'), ('https://medlineplus.gov/lab-tests/skin-cancer-screening/', 'Skin Cancer Screening'), ('https://medlineplus.gov/lab-tests/sodium-blood-test/', 'Sodium Blood Test'), ('https://medlineplus.gov/lab-tests/stool-elastase/', 'Stool Elastase'), ('https://medlineplus.gov/lab-tests/stress-tests/', 'Stress Tests'), ('https://medlineplus.gov/lab-tests/sweat-test-for-cystic-fibrosis/', 'Sweat Test for Cystic Fibrosis'), ('https://medlineplus.gov/lab-tests/syphilis-tests/', 'Syphilis Tests'), ('https://medlineplus.gov/lab-tests/testosterone-levels-test/', 'Testosterone Levels Test'), ('https://medlineplus.gov/lab-tests/thyroglobulin/', 'Thyroglobulin'), ('https://medlineplus.gov/lab-tests/thyroid-antibodies/', 'Thyroid Antibodies'), ('https://medlineplus.gov/lab-tests/thyroxine-t4-test/', 'Thyroxine (T4) Test'), ('https://medlineplus.gov/lab-tests/tp53-genetic-test/', 'TP53 Genetic Test'), ('https://medlineplus.gov/lab-tests/triglycerides-test/', 'Triglycerides Test'), ('https://medlineplus.gov/lab-tests/tsh-thyroid-stimulating-hormone-test/', 'TSH (Thyroid-stimulating hormone) Test'), ('https://medlineplus.gov/lab-tests/tuberculosis-screening/', 'Tuberculosis Screening'), ('https://medlineplus.gov/lab-tests/tumor-marker-tests/', 'Tumor Marker Tests'), ('https://medlineplus.gov/lab-tests/uric-acid-test/', 'Uric Acid Test'), ('https://medlineplus.gov/lab-tests/urobilinogen-in-urine/', 'Urobilinogen in Urine'), ('https://medlineplus.gov/lab-tests/vision-screening/', 'Vision Screening'), ('https://medlineplus.gov/lab-tests/vitamin-d-test/', 'Vitamin D Test'), ('https://medlineplus.gov/lab-tests/vitamin-e-tocopherol-test/', 'Vitamin E (Tocopherol) Test'), ('https://medlineplus.gov/lab-tests/white-blood-cell-wbc-in-stool/', 'White Blood Cell (WBC) in Stool'), ('https://medlineplus.gov/lab-tests/whooping-cough-diagnosis/', 'Whooping Cough Diagnosis'), ('https://medlineplus.gov/lab-tests/yeast-infection-tests/', 'Yeast Infection Tests'), ('https://medlineplus.gov/lab-tests/zika-virus-test/', 'Zika Virus Test')]\n"
     ]
    }
   ],
   "source": [
    "import urllib3\n",
    "urllib3.disable_warnings()\n",
    "from bs4 import BeautifulSoup\n",
    "url_root='https://medlineplus.gov/'\n",
    "str_page=''\n",
    "links = []\n",
    "url=url_root+'lab-tests/'\n",
    "https = urllib3.PoolManager()\n",
    "response = https.request('GET', url)\n",
    "page = BeautifulSoup(response.data,'lxml')\n",
    "print(url)\n",
    "for i in range(ord('A'),ord('I')+1):\n",
    "    str_page= str(chr(i))\n",
    "    index = page.find('div',{'id':'section_{}'.format(str_page),'class':'section-body'})\n",
    "    \n",
    "    for h in index.find_all('a', href=True):\n",
    "        links.append((h[\"href\"],h.text))\n",
    "for i in range(ord('K'),ord('N')+1):\n",
    "    str_page= str(chr(i))\n",
    "    index = page.find('div',{'id':'section_{}'.format(str_page),'class':'section-body'})\n",
    "    \n",
    "    for h in index.find_all('a', href=True):\n",
    "        links.append((h[\"href\"],h.text))\n",
    "for i in range(ord('P'),ord('Q')):\n",
    "    str_page= str(chr(i))\n",
    "    index = page.find('div',{'id':'section_{}'.format(str_page),'class':'section-body'})\n",
    "    \n",
    "    for h in index.find_all('a', href=True):\n",
    "        links.append((h[\"href\"],h.text))\n",
    "for i in range(ord('R'),ord('W')+1):\n",
    "    str_page= str(chr(i))\n",
    "    index = page.find('div',{'id':'section_{}'.format(str_page),'class':'section-body'})\n",
    "    \n",
    "    for h in index.find_all('a', href=True):\n",
    "        links.append((h[\"href\"],h.text))\n",
    "for i in range(ord('Y'),ord('Z')+1):\n",
    "    str_page= str(chr(i))\n",
    "    index = page.find('div',{'id':'section_{}'.format(str_page),'class':'section-body'})\n",
    "    \n",
    "    for h in index.find_all('a', href=True):\n",
    "        links.append((h[\"href\"],h.text))\n",
    "print(len(links))\n",
    "print('\\n\\n')\n",
    "print(links)"
   ]
  },
  {
   "cell_type": "code",
   "execution_count": null,
   "metadata": {},
   "outputs": [],
   "source": []
  },
  {
   "cell_type": "code",
   "execution_count": null,
   "metadata": {},
   "outputs": [],
   "source": []
  }
 ],
 "metadata": {
  "kernelspec": {
   "display_name": "Python 3",
   "language": "python",
   "name": "python3"
  },
  "language_info": {
   "codemirror_mode": {
    "name": "ipython",
    "version": 3
   },
   "file_extension": ".py",
   "mimetype": "text/x-python",
   "name": "python",
   "nbconvert_exporter": "python",
   "pygments_lexer": "ipython3",
   "version": "3.6.5"
  }
 },
 "nbformat": 4,
 "nbformat_minor": 2
}
